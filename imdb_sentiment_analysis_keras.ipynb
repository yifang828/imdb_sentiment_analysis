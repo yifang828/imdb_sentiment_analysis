{
 "cells": [
  {
   "cell_type": "markdown",
   "metadata": {},
   "source": [
    "讀取資料\n",
    "看前五筆資料"
   ]
  },
  {
   "cell_type": "code",
   "execution_count": 1,
   "metadata": {},
   "outputs": [
    {
     "data": {
      "text/html": [
       "<div>\n",
       "<style scoped>\n",
       "    .dataframe tbody tr th:only-of-type {\n",
       "        vertical-align: middle;\n",
       "    }\n",
       "\n",
       "    .dataframe tbody tr th {\n",
       "        vertical-align: top;\n",
       "    }\n",
       "\n",
       "    .dataframe thead th {\n",
       "        text-align: right;\n",
       "    }\n",
       "</style>\n",
       "<table border=\"1\" class=\"dataframe\">\n",
       "  <thead>\n",
       "    <tr style=\"text-align: right;\">\n",
       "      <th></th>\n",
       "      <th>review</th>\n",
       "      <th>sentiment</th>\n",
       "    </tr>\n",
       "  </thead>\n",
       "  <tbody>\n",
       "    <tr>\n",
       "      <th>0</th>\n",
       "      <td>In 1974, the teenager Martha Moxley (Maggie Gr...</td>\n",
       "      <td>1</td>\n",
       "    </tr>\n",
       "    <tr>\n",
       "      <th>1</th>\n",
       "      <td>OK... so... I really like Kris Kristofferson a...</td>\n",
       "      <td>0</td>\n",
       "    </tr>\n",
       "    <tr>\n",
       "      <th>2</th>\n",
       "      <td>***SPOILER*** Do not read this, if you think a...</td>\n",
       "      <td>0</td>\n",
       "    </tr>\n",
       "    <tr>\n",
       "      <th>3</th>\n",
       "      <td>hi for all the people who have seen this wonde...</td>\n",
       "      <td>1</td>\n",
       "    </tr>\n",
       "    <tr>\n",
       "      <th>4</th>\n",
       "      <td>I recently bought the DVD, forgetting just how...</td>\n",
       "      <td>0</td>\n",
       "    </tr>\n",
       "  </tbody>\n",
       "</table>\n",
       "</div>"
      ],
      "text/plain": [
       "                                              review  sentiment\n",
       "0  In 1974, the teenager Martha Moxley (Maggie Gr...          1\n",
       "1  OK... so... I really like Kris Kristofferson a...          0\n",
       "2  ***SPOILER*** Do not read this, if you think a...          0\n",
       "3  hi for all the people who have seen this wonde...          1\n",
       "4  I recently bought the DVD, forgetting just how...          0"
      ]
     },
     "execution_count": 1,
     "metadata": {},
     "output_type": "execute_result"
    }
   ],
   "source": [
    "import pandas as pd\n",
    "\n",
    "df = pd.read_csv('./movie_data.csv', encoding='utf-8')\n",
    "df.head(5)\n"
   ]
  },
  {
   "cell_type": "markdown",
   "metadata": {},
   "source": [
    "查看資料筆數和欄位數"
   ]
  },
  {
   "cell_type": "code",
   "execution_count": 2,
   "metadata": {},
   "outputs": [
    {
     "name": "stdout",
     "output_type": "stream",
     "text": [
      "(50000, 2)\n",
      "1    25000\n",
      "0    25000\n",
      "Name: sentiment, dtype: int64\n"
     ]
    }
   ],
   "source": [
    "print(df.shape)\n",
    "print(df['sentiment'].value_counts())\n"
   ]
  },
  {
   "cell_type": "markdown",
   "metadata": {},
   "source": [
    "pre-processing\n",
    "1. to lowercase\n",
    "2. remove url and html tag\n",
    "3. remove puctuation"
   ]
  },
  {
   "cell_type": "code",
   "execution_count": 3,
   "metadata": {},
   "outputs": [
    {
     "data": {
      "text/html": [
       "<div>\n",
       "<style scoped>\n",
       "    .dataframe tbody tr th:only-of-type {\n",
       "        vertical-align: middle;\n",
       "    }\n",
       "\n",
       "    .dataframe tbody tr th {\n",
       "        vertical-align: top;\n",
       "    }\n",
       "\n",
       "    .dataframe thead th {\n",
       "        text-align: right;\n",
       "    }\n",
       "</style>\n",
       "<table border=\"1\" class=\"dataframe\">\n",
       "  <thead>\n",
       "    <tr style=\"text-align: right;\">\n",
       "      <th></th>\n",
       "      <th>review</th>\n",
       "      <th>sentiment</th>\n",
       "    </tr>\n",
       "  </thead>\n",
       "  <tbody>\n",
       "    <tr>\n",
       "      <th>0</th>\n",
       "      <td>in 1974, the teenager martha moxley (maggie gr...</td>\n",
       "      <td>1</td>\n",
       "    </tr>\n",
       "    <tr>\n",
       "      <th>1</th>\n",
       "      <td>ok... so... i really like kris kristofferson a...</td>\n",
       "      <td>0</td>\n",
       "    </tr>\n",
       "    <tr>\n",
       "      <th>2</th>\n",
       "      <td>***spoiler*** do not read this, if you think a...</td>\n",
       "      <td>0</td>\n",
       "    </tr>\n",
       "    <tr>\n",
       "      <th>3</th>\n",
       "      <td>hi for all the people who have seen this wonde...</td>\n",
       "      <td>1</td>\n",
       "    </tr>\n",
       "    <tr>\n",
       "      <th>4</th>\n",
       "      <td>i recently bought the dvd, forgetting just how...</td>\n",
       "      <td>0</td>\n",
       "    </tr>\n",
       "  </tbody>\n",
       "</table>\n",
       "</div>"
      ],
      "text/plain": [
       "                                              review  sentiment\n",
       "0  in 1974, the teenager martha moxley (maggie gr...          1\n",
       "1  ok... so... i really like kris kristofferson a...          0\n",
       "2  ***spoiler*** do not read this, if you think a...          0\n",
       "3  hi for all the people who have seen this wonde...          1\n",
       "4  i recently bought the dvd, forgetting just how...          0"
      ]
     },
     "execution_count": 3,
     "metadata": {},
     "output_type": "execute_result"
    }
   ],
   "source": [
    "from bs4 import BeautifulSoup\n",
    "import re\n",
    "import nltk\n",
    "\n",
    "# to lowercase\n",
    "df['review'] = df['review'].str.lower()\n",
    "\n",
    "# remove url and html tag\n",
    "df['review'] = df['review'].apply(lambda x: BeautifulSoup(x).get_text())\n",
    "df['review'] = df['review'].apply(lambda x: re.sub(r\"http\\S+\", \"\", x))\n",
    "\n",
    "df.head(5)"
   ]
  },
  {
   "cell_type": "code",
   "execution_count": 4,
   "metadata": {},
   "outputs": [
    {
     "data": {
      "text/html": [
       "<div>\n",
       "<style scoped>\n",
       "    .dataframe tbody tr th:only-of-type {\n",
       "        vertical-align: middle;\n",
       "    }\n",
       "\n",
       "    .dataframe tbody tr th {\n",
       "        vertical-align: top;\n",
       "    }\n",
       "\n",
       "    .dataframe thead th {\n",
       "        text-align: right;\n",
       "    }\n",
       "</style>\n",
       "<table border=\"1\" class=\"dataframe\">\n",
       "  <thead>\n",
       "    <tr style=\"text-align: right;\">\n",
       "      <th></th>\n",
       "      <th>review</th>\n",
       "      <th>sentiment</th>\n",
       "    </tr>\n",
       "  </thead>\n",
       "  <tbody>\n",
       "    <tr>\n",
       "      <th>0</th>\n",
       "      <td>in  the teenager martha moxley maggie grace mo...</td>\n",
       "      <td>1</td>\n",
       "    </tr>\n",
       "    <tr>\n",
       "      <th>1</th>\n",
       "      <td>ok so i really like kris kristofferson and his...</td>\n",
       "      <td>0</td>\n",
       "    </tr>\n",
       "    <tr>\n",
       "      <th>2</th>\n",
       "      <td>spoiler do not read this if you think about wa...</td>\n",
       "      <td>0</td>\n",
       "    </tr>\n",
       "    <tr>\n",
       "      <th>3</th>\n",
       "      <td>hi for all the people who have seen this wonde...</td>\n",
       "      <td>1</td>\n",
       "    </tr>\n",
       "    <tr>\n",
       "      <th>4</th>\n",
       "      <td>i recently bought the dvd forgetting just how ...</td>\n",
       "      <td>0</td>\n",
       "    </tr>\n",
       "    <tr>\n",
       "      <th>5</th>\n",
       "      <td>leave it to braik to put on a good show finall...</td>\n",
       "      <td>1</td>\n",
       "    </tr>\n",
       "    <tr>\n",
       "      <th>6</th>\n",
       "      <td>nathan detroit frank sinatra is the manager of...</td>\n",
       "      <td>1</td>\n",
       "    </tr>\n",
       "    <tr>\n",
       "      <th>7</th>\n",
       "      <td>to understand crash course in the right contex...</td>\n",
       "      <td>1</td>\n",
       "    </tr>\n",
       "    <tr>\n",
       "      <th>8</th>\n",
       "      <td>ive been impressed with chavezs stance against...</td>\n",
       "      <td>1</td>\n",
       "    </tr>\n",
       "    <tr>\n",
       "      <th>9</th>\n",
       "      <td>this movie is directed by renny harlin the fin...</td>\n",
       "      <td>1</td>\n",
       "    </tr>\n",
       "  </tbody>\n",
       "</table>\n",
       "</div>"
      ],
      "text/plain": [
       "                                              review  sentiment\n",
       "0  in  the teenager martha moxley maggie grace mo...          1\n",
       "1  ok so i really like kris kristofferson and his...          0\n",
       "2  spoiler do not read this if you think about wa...          0\n",
       "3  hi for all the people who have seen this wonde...          1\n",
       "4  i recently bought the dvd forgetting just how ...          0\n",
       "5  leave it to braik to put on a good show finall...          1\n",
       "6  nathan detroit frank sinatra is the manager of...          1\n",
       "7  to understand crash course in the right contex...          1\n",
       "8  ive been impressed with chavezs stance against...          1\n",
       "9  this movie is directed by renny harlin the fin...          1"
      ]
     },
     "execution_count": 4,
     "metadata": {},
     "output_type": "execute_result"
    }
   ],
   "source": [
    "# remove puctuation\n",
    "df['review'] = df['review'].apply(lambda x: \" \".join([re.sub('[^A-Za-z]+', '', x) for x in str(x).split()]))\n",
    "df.head(10)"
   ]
  },
  {
   "cell_type": "markdown",
   "metadata": {},
   "source": [
    "切分資料集 train, val, test，其中train:test=7:3"
   ]
  },
  {
   "cell_type": "code",
   "execution_count": 5,
   "metadata": {},
   "outputs": [],
   "source": [
    "# from sklearn.model_selection import train_test_split\n",
    "\n",
    "# x_train, x_test, y_train, y_test = train_test_split(df['review'], df['sentiment'], train_size=0.7, test_size=0.3)\n",
    "# # x_train, x_val, y_train, y_val = train_test_split(x_train, y_train, train_size=0.7, test_size=0.3)\n",
    "# print(x_train.head(5))\n",
    "# print(x_test.head(5))\n",
    "# print(y_train.head(5))\n",
    "# print(y_test.head(5))\n",
    "\n",
    "# dict = {'review':x_test, 'sentiment':y_test}\n",
    "# df = pd.DataFrame(dict)\n",
    "# df.to_csv('imdb_test.csv', header=True, index=False)\n",
    "\n",
    "# # dict = {'review':x_val, 'sentiment':y_val}\n",
    "# # df = pd.DataFrame(dict)\n",
    "# # df.to_csv('imdb_val.csv', header=True, index=False)\n",
    "\n",
    "# dict = {'review':x_train, 'sentiment':y_train}\n",
    "# df = pd.DataFrame(dict)\n",
    "# df.to_csv('imdb_train.csv', header=True, index=False)"
   ]
  },
  {
   "cell_type": "code",
   "execution_count": 6,
   "metadata": {},
   "outputs": [
    {
     "name": "stdout",
     "output_type": "stream",
     "text": [
      "(15000, 2)\n",
      "0    7508\n",
      "1    7492\n",
      "Name: sentiment, dtype: int64\n",
      "(35000, 2)\n",
      "1    17508\n",
      "0    17492\n",
      "Name: sentiment, dtype: int64\n"
     ]
    }
   ],
   "source": [
    "test = pd.read_csv('imdb_test.csv', encoding='utf-8')\n",
    "print(test.shape)\n",
    "print(test['sentiment'].value_counts())\n",
    "\n",
    "train = pd.read_csv('imdb_train.csv', encoding='utf-8')\n",
    "print(train.shape)\n",
    "print(train['sentiment'].value_counts())\n",
    "\n",
    "# val = pd.read_csv('imdb_val.csv', encoding='utf-8')\n",
    "# print(val.shape)\n",
    "# print(val['sentiment'].value_counts())"
   ]
  },
  {
   "cell_type": "markdown",
   "metadata": {},
   "source": [
    "使用tf-idf當作特徵"
   ]
  },
  {
   "cell_type": "code",
   "execution_count": 11,
   "metadata": {},
   "outputs": [],
   "source": [
    "from sklearn.feature_extraction.text import TfidfVectorizer\n",
    "\n",
    "tfidf_vec = TfidfVectorizer()\n",
    "train_review = tfidf_vec.fit_transform(train['review'])\n",
    "# val_review = tfidf_vec.fit_transform(val['review'])\n",
    "test_review = tfidf_vec.transform(test['review'])"
   ]
  },
  {
   "cell_type": "markdown",
   "metadata": {},
   "source": [
    "logistic regression with keras"
   ]
  },
  {
   "cell_type": "code",
   "execution_count": 12,
   "metadata": {},
   "outputs": [
    {
     "name": "stdout",
     "output_type": "stream",
     "text": [
      "Model: \"sequential_1\"\n",
      "_________________________________________________________________\n",
      "Layer (type)                 Output Shape              Param #   \n",
      "=================================================================\n",
      "dense_2 (Dense)              (None, 8)                 1372896   \n",
      "_________________________________________________________________\n",
      "dense_3 (Dense)              (None, 4)                 36        \n",
      "_________________________________________________________________\n",
      "dense_4 (Dense)              (None, 1)                 5         \n",
      "=================================================================\n",
      "Total params: 1,372,937\n",
      "Trainable params: 1,372,937\n",
      "Non-trainable params: 0\n",
      "_________________________________________________________________\n",
      "None\n",
      "Epoch 1/20\n",
      "875/875 [==============================] - 56s 63ms/step - loss: 0.5139 - accuracy: 0.7844 - val_loss: 0.3687 - val_accuracy: 0.8981\n",
      "Epoch 2/20\n",
      "875/875 [==============================] - 30s 35ms/step - loss: 0.2446 - accuracy: 0.9530 - val_loss: 0.2522 - val_accuracy: 0.9026\n",
      "Epoch 3/20\n",
      "875/875 [==============================] - 18s 20ms/step - loss: 0.0778 - accuracy: 0.9834 - val_loss: 0.2597 - val_accuracy: 0.8956\n",
      "Epoch 4/20\n",
      "875/875 [==============================] - 10s 12ms/step - loss: 0.0330 - accuracy: 0.9938 - val_loss: 0.2860 - val_accuracy: 0.8929\n",
      "Epoch 5/20\n",
      "875/875 [==============================] - 10s 11ms/step - loss: 0.0150 - accuracy: 0.9977 - val_loss: 0.3131 - val_accuracy: 0.8890\n",
      "Epoch 6/20\n",
      "875/875 [==============================] - 10s 11ms/step - loss: 0.0070 - accuracy: 0.9991 - val_loss: 0.3405 - val_accuracy: 0.8886\n",
      "Epoch 7/20\n",
      "875/875 [==============================] - 9s 11ms/step - loss: 0.0033 - accuracy: 0.9996 - val_loss: 0.3674 - val_accuracy: 0.8861\n",
      "Epoch 8/20\n",
      "875/875 [==============================] - 9s 11ms/step - loss: 0.0017 - accuracy: 0.9998 - val_loss: 0.3938 - val_accuracy: 0.8844\n",
      "Epoch 9/20\n",
      "875/875 [==============================] - 9s 11ms/step - loss: 7.1529e-04 - accuracy: 0.9999 - val_loss: 0.4228 - val_accuracy: 0.8836\n",
      "Epoch 10/20\n",
      "875/875 [==============================] - 9s 11ms/step - loss: 2.9364e-04 - accuracy: 1.0000 - val_loss: 0.4484 - val_accuracy: 0.8817\n",
      "Epoch 11/20\n",
      "875/875 [==============================] - 9s 11ms/step - loss: 1.4418e-04 - accuracy: 1.0000 - val_loss: 0.4718 - val_accuracy: 0.8817\n",
      "Epoch 12/20\n",
      "875/875 [==============================] - 9s 11ms/step - loss: 7.9578e-05 - accuracy: 1.0000 - val_loss: 0.4946 - val_accuracy: 0.8807\n",
      "Epoch 13/20\n",
      "875/875 [==============================] - 9s 11ms/step - loss: 4.7749e-05 - accuracy: 1.0000 - val_loss: 0.5169 - val_accuracy: 0.8807\n",
      "Epoch 14/20\n",
      "875/875 [==============================] - 9s 11ms/step - loss: 2.9662e-05 - accuracy: 1.0000 - val_loss: 0.5401 - val_accuracy: 0.8800\n",
      "Epoch 15/20\n",
      "875/875 [==============================] - 10s 11ms/step - loss: 1.9211e-05 - accuracy: 1.0000 - val_loss: 0.5618 - val_accuracy: 0.8794\n",
      "Epoch 16/20\n",
      "875/875 [==============================] - 10s 11ms/step - loss: 1.3469e-05 - accuracy: 1.0000 - val_loss: 0.5832 - val_accuracy: 0.8793\n",
      "Epoch 17/20\n",
      "875/875 [==============================] - 10s 11ms/step - loss: 9.1606e-06 - accuracy: 1.0000 - val_loss: 0.6043 - val_accuracy: 0.8796\n",
      "Epoch 18/20\n",
      "875/875 [==============================] - 10s 11ms/step - loss: 6.6428e-06 - accuracy: 1.0000 - val_loss: 0.6257 - val_accuracy: 0.8796\n",
      "Epoch 19/20\n",
      "875/875 [==============================] - 10s 11ms/step - loss: 5.1102e-06 - accuracy: 1.0000 - val_loss: 0.6527 - val_accuracy: 0.8784\n",
      "Epoch 20/20\n",
      "875/875 [==============================] - 9s 11ms/step - loss: 3.6438e-06 - accuracy: 1.0000 - val_loss: 0.6684 - val_accuracy: 0.8784\n"
     ]
    }
   ],
   "source": [
    "from calendar import EPOCH\n",
    "from tensorflow.keras.models import Sequential\n",
    "from tensorflow.keras.layers import Dense\n",
    "import numpy as np\n",
    "\n",
    "number_of_classes = 1\n",
    "number_of_features = train_review.shape[1]\n",
    "model = Sequential()\n",
    "\n",
    "### single layer\n",
    "model.add(Dense(number_of_classes, input_dim = number_of_features, activation = 'sigmoid'))\n",
    "\n",
    "### 2 layers\n",
    "# model.add(Dense(units=8, input_dim = number_of_features, activation = 'relu'))\n",
    "# model.add(Dense(number_of_classes, input_dim = 80000, activation = 'sigmoid'))\n",
    "\n",
    "model.compile(optimizer='adam', loss='binary_crossentropy', metrics=['accuracy'])\n",
    "print(model.summary())\n",
    "\n",
    "train_sentiment = np.array(train['sentiment'])\n",
    "history = model.fit(train_review.toarray(), train_sentiment, epochs= 20, batch_size=32, validation_split=0.2)"
   ]
  },
  {
   "cell_type": "code",
   "execution_count": 13,
   "metadata": {},
   "outputs": [
    {
     "data": {
      "image/png": "[encoded data removed]",
      "text/plain": [
       "<Figure size 432x288 with 1 Axes>"
      ]
     },
     "metadata": {
      "needs_background": "light"
     },
     "output_type": "display_data"
    },
    {
     "data": {
      "image/png": "[encoded data removed]",
      "text/plain": [
       "<Figure size 432x288 with 1 Axes>"
      ]
     },
     "metadata": {
      "needs_background": "light"
     },
     "output_type": "display_data"
    }
   ],
   "source": [
    "import matplotlib.pyplot as plt\n",
    "\n",
    "# Plot training and validation accuracy scores\n",
    "plt.plot(history.history['accuracy'], label='Train')\n",
    "plt.plot(history.history['val_accuracy'], label='Validation')\n",
    "plt.ylabel('Accuracy')\n",
    "plt.xlabel('Epoch')\n",
    "plt.title('Model Accuracy')\n",
    "plt.legend(loc='upper left')\n",
    "plt.show()\n",
    "\n",
    "# Plot training and validation loss scores\n",
    "plt.plot(history.history['loss'], label='Train')\n",
    "plt.plot(history.history['val_loss'], label='Validation')\n",
    "plt.ylabel('Loss')\n",
    "plt.xlabel('Epoch')\n",
    "plt.title('Model Loss')\n",
    "plt.legend(loc='upper right')\n",
    "plt.show()"
   ]
  },
  {
   "cell_type": "code",
   "execution_count": 14,
   "metadata": {},
   "outputs": [
    {
     "name": "stdout",
     "output_type": "stream",
     "text": [
      "469/469 [==============================] - 3s 7ms/step - loss: 0.7314 - accuracy: 0.8757\n",
      "test loss:  0.7314373254776001\n",
      "test acc:  0.8757333159446716\n"
     ]
    }
   ],
   "source": [
    "test_sentiment = np.array(test['sentiment'])\n",
    "test_loss, test_acc = model.evaluate(test_review.toarray(), test_sentiment)\n",
    "print(\"test loss: \", test_loss)\n",
    "print(\"test acc: \", test_acc)"
   ]
  }
 ],
 "metadata": {
  "kernelspec": {
   "display_name": "Python 3.8.5 ('base')",
   "language": "python",
   "name": "python3"
  },
  "language_info": {
   "codemirror_mode": {
    "name": "ipython",
    "version": 3
   },
   "file_extension": ".py",
   "mimetype": "text/x-python",
   "name": "python",
   "nbconvert_exporter": "python",
   "pygments_lexer": "ipython3",
   "version": "3.8.5"
  },
  "vscode": {
   "interpreter": {
    "hash": "5a9e08d3d7ccfa255d62ba1e587172a6adb964258b9aeb02178b449ad672450b"
   }
  }
 },
 "nbformat": 4,
 "nbformat_minor": 4
}
