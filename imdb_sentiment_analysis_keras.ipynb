{
 "cells": [
  {
   "cell_type": "markdown",
   "metadata": {},
   "source": [
    "讀取資料\n",
    "看前五筆資料"
   ]
  },
  {
   "cell_type": "code",
   "execution_count": 1,
   "metadata": {},
   "outputs": [
    {
     "data": {
      "text/html": [
       "<div>\n",
       "<style scoped>\n",
       "    .dataframe tbody tr th:only-of-type {\n",
       "        vertical-align: middle;\n",
       "    }\n",
       "\n",
       "    .dataframe tbody tr th {\n",
       "        vertical-align: top;\n",
       "    }\n",
       "\n",
       "    .dataframe thead th {\n",
       "        text-align: right;\n",
       "    }\n",
       "</style>\n",
       "<table border=\"1\" class=\"dataframe\">\n",
       "  <thead>\n",
       "    <tr style=\"text-align: right;\">\n",
       "      <th></th>\n",
       "      <th>review</th>\n",
       "      <th>sentiment</th>\n",
       "    </tr>\n",
       "  </thead>\n",
       "  <tbody>\n",
       "    <tr>\n",
       "      <th>0</th>\n",
       "      <td>In 1974, the teenager Martha Moxley (Maggie Gr...</td>\n",
       "      <td>1</td>\n",
       "    </tr>\n",
       "    <tr>\n",
       "      <th>1</th>\n",
       "      <td>OK... so... I really like Kris Kristofferson a...</td>\n",
       "      <td>0</td>\n",
       "    </tr>\n",
       "    <tr>\n",
       "      <th>2</th>\n",
       "      <td>***SPOILER*** Do not read this, if you think a...</td>\n",
       "      <td>0</td>\n",
       "    </tr>\n",
       "    <tr>\n",
       "      <th>3</th>\n",
       "      <td>hi for all the people who have seen this wonde...</td>\n",
       "      <td>1</td>\n",
       "    </tr>\n",
       "    <tr>\n",
       "      <th>4</th>\n",
       "      <td>I recently bought the DVD, forgetting just how...</td>\n",
       "      <td>0</td>\n",
       "    </tr>\n",
       "  </tbody>\n",
       "</table>\n",
       "</div>"
      ],
      "text/plain": [
       "                                              review  sentiment\n",
       "0  In 1974, the teenager Martha Moxley (Maggie Gr...          1\n",
       "1  OK... so... I really like Kris Kristofferson a...          0\n",
       "2  ***SPOILER*** Do not read this, if you think a...          0\n",
       "3  hi for all the people who have seen this wonde...          1\n",
       "4  I recently bought the DVD, forgetting just how...          0"
      ]
     },
     "execution_count": 1,
     "metadata": {},
     "output_type": "execute_result"
    }
   ],
   "source": [
    "import pandas as pd\n",
    "\n",
    "df = pd.read_csv('./movie_data.csv', encoding='utf-8')\n",
    "df.head(5)\n"
   ]
  },
  {
   "cell_type": "markdown",
   "metadata": {},
   "source": [
    "查看資料筆數和欄位數"
   ]
  },
  {
   "cell_type": "code",
   "execution_count": 2,
   "metadata": {},
   "outputs": [
    {
     "name": "stdout",
     "output_type": "stream",
     "text": [
      "(50000, 2)\n",
      "1    25000\n",
      "0    25000\n",
      "Name: sentiment, dtype: int64\n"
     ]
    }
   ],
   "source": [
    "print(df.shape)\n",
    "print(df['sentiment'].value_counts())\n"
   ]
  },
  {
   "cell_type": "markdown",
   "metadata": {},
   "source": [
    "pre-processing\n",
    "1. to lowercase\n",
    "2. remove url and html tag\n",
    "3. remove puctuation"
   ]
  },
  {
   "cell_type": "code",
   "execution_count": 3,
   "metadata": {},
   "outputs": [
    {
     "data": {
      "text/html": [
       "<div>\n",
       "<style scoped>\n",
       "    .dataframe tbody tr th:only-of-type {\n",
       "        vertical-align: middle;\n",
       "    }\n",
       "\n",
       "    .dataframe tbody tr th {\n",
       "        vertical-align: top;\n",
       "    }\n",
       "\n",
       "    .dataframe thead th {\n",
       "        text-align: right;\n",
       "    }\n",
       "</style>\n",
       "<table border=\"1\" class=\"dataframe\">\n",
       "  <thead>\n",
       "    <tr style=\"text-align: right;\">\n",
       "      <th></th>\n",
       "      <th>review</th>\n",
       "      <th>sentiment</th>\n",
       "    </tr>\n",
       "  </thead>\n",
       "  <tbody>\n",
       "    <tr>\n",
       "      <th>0</th>\n",
       "      <td>in 1974, the teenager martha moxley (maggie gr...</td>\n",
       "      <td>1</td>\n",
       "    </tr>\n",
       "    <tr>\n",
       "      <th>1</th>\n",
       "      <td>ok... so... i really like kris kristofferson a...</td>\n",
       "      <td>0</td>\n",
       "    </tr>\n",
       "    <tr>\n",
       "      <th>2</th>\n",
       "      <td>***spoiler*** do not read this, if you think a...</td>\n",
       "      <td>0</td>\n",
       "    </tr>\n",
       "    <tr>\n",
       "      <th>3</th>\n",
       "      <td>hi for all the people who have seen this wonde...</td>\n",
       "      <td>1</td>\n",
       "    </tr>\n",
       "    <tr>\n",
       "      <th>4</th>\n",
       "      <td>i recently bought the dvd, forgetting just how...</td>\n",
       "      <td>0</td>\n",
       "    </tr>\n",
       "  </tbody>\n",
       "</table>\n",
       "</div>"
      ],
      "text/plain": [
       "                                              review  sentiment\n",
       "0  in 1974, the teenager martha moxley (maggie gr...          1\n",
       "1  ok... so... i really like kris kristofferson a...          0\n",
       "2  ***spoiler*** do not read this, if you think a...          0\n",
       "3  hi for all the people who have seen this wonde...          1\n",
       "4  i recently bought the dvd, forgetting just how...          0"
      ]
     },
     "execution_count": 3,
     "metadata": {},
     "output_type": "execute_result"
    }
   ],
   "source": [
    "from bs4 import BeautifulSoup\n",
    "import re\n",
    "import nltk\n",
    "\n",
    "# to lowercase\n",
    "df['review'] = df['review'].str.lower()\n",
    "\n",
    "# remove url and html tag\n",
    "df['review'] = df['review'].apply(lambda x: BeautifulSoup(x).get_text())\n",
    "df['review'] = df['review'].apply(lambda x: re.sub(r\"http\\S+\", \"\", x))\n",
    "\n",
    "df.head(5)"
   ]
  },
  {
   "cell_type": "code",
   "execution_count": 4,
   "metadata": {},
   "outputs": [
    {
     "data": {
      "text/html": [
       "<div>\n",
       "<style scoped>\n",
       "    .dataframe tbody tr th:only-of-type {\n",
       "        vertical-align: middle;\n",
       "    }\n",
       "\n",
       "    .dataframe tbody tr th {\n",
       "        vertical-align: top;\n",
       "    }\n",
       "\n",
       "    .dataframe thead th {\n",
       "        text-align: right;\n",
       "    }\n",
       "</style>\n",
       "<table border=\"1\" class=\"dataframe\">\n",
       "  <thead>\n",
       "    <tr style=\"text-align: right;\">\n",
       "      <th></th>\n",
       "      <th>review</th>\n",
       "      <th>sentiment</th>\n",
       "    </tr>\n",
       "  </thead>\n",
       "  <tbody>\n",
       "    <tr>\n",
       "      <th>0</th>\n",
       "      <td>in  the teenager martha moxley maggie grace mo...</td>\n",
       "      <td>1</td>\n",
       "    </tr>\n",
       "    <tr>\n",
       "      <th>1</th>\n",
       "      <td>ok so i really like kris kristofferson and his...</td>\n",
       "      <td>0</td>\n",
       "    </tr>\n",
       "    <tr>\n",
       "      <th>2</th>\n",
       "      <td>spoiler do not read this if you think about wa...</td>\n",
       "      <td>0</td>\n",
       "    </tr>\n",
       "    <tr>\n",
       "      <th>3</th>\n",
       "      <td>hi for all the people who have seen this wonde...</td>\n",
       "      <td>1</td>\n",
       "    </tr>\n",
       "    <tr>\n",
       "      <th>4</th>\n",
       "      <td>i recently bought the dvd forgetting just how ...</td>\n",
       "      <td>0</td>\n",
       "    </tr>\n",
       "    <tr>\n",
       "      <th>5</th>\n",
       "      <td>leave it to braik to put on a good show finall...</td>\n",
       "      <td>1</td>\n",
       "    </tr>\n",
       "    <tr>\n",
       "      <th>6</th>\n",
       "      <td>nathan detroit frank sinatra is the manager of...</td>\n",
       "      <td>1</td>\n",
       "    </tr>\n",
       "    <tr>\n",
       "      <th>7</th>\n",
       "      <td>to understand crash course in the right contex...</td>\n",
       "      <td>1</td>\n",
       "    </tr>\n",
       "    <tr>\n",
       "      <th>8</th>\n",
       "      <td>ive been impressed with chavezs stance against...</td>\n",
       "      <td>1</td>\n",
       "    </tr>\n",
       "    <tr>\n",
       "      <th>9</th>\n",
       "      <td>this movie is directed by renny harlin the fin...</td>\n",
       "      <td>1</td>\n",
       "    </tr>\n",
       "  </tbody>\n",
       "</table>\n",
       "</div>"
      ],
      "text/plain": [
       "                                              review  sentiment\n",
       "0  in  the teenager martha moxley maggie grace mo...          1\n",
       "1  ok so i really like kris kristofferson and his...          0\n",
       "2  spoiler do not read this if you think about wa...          0\n",
       "3  hi for all the people who have seen this wonde...          1\n",
       "4  i recently bought the dvd forgetting just how ...          0\n",
       "5  leave it to braik to put on a good show finall...          1\n",
       "6  nathan detroit frank sinatra is the manager of...          1\n",
       "7  to understand crash course in the right contex...          1\n",
       "8  ive been impressed with chavezs stance against...          1\n",
       "9  this movie is directed by renny harlin the fin...          1"
      ]
     },
     "execution_count": 4,
     "metadata": {},
     "output_type": "execute_result"
    }
   ],
   "source": [
    "# remove puctuation\n",
    "df['review'] = df['review'].apply(lambda x: \" \".join([re.sub('[^A-Za-z]+', '', x) for x in str(x).split()]))\n",
    "df.head(10)"
   ]
  },
  {
   "cell_type": "markdown",
   "metadata": {},
   "source": [
    "切分資料集 train, val, test，其中train:test=7:3"
   ]
  },
  {
   "cell_type": "code",
   "execution_count": 5,
   "metadata": {},
   "outputs": [],
   "source": [
    "# from sklearn.model_selection import train_test_split\n",
    "\n",
    "# x_train, x_test, y_train, y_test = train_test_split(df['review'], df['sentiment'], train_size=0.7, test_size=0.3)\n",
    "# # x_train, x_val, y_train, y_val = train_test_split(x_train, y_train, train_size=0.7, test_size=0.3)\n",
    "# print(x_train.head(5))\n",
    "# print(x_test.head(5))\n",
    "# print(y_train.head(5))\n",
    "# print(y_test.head(5))\n",
    "\n",
    "# dict = {'review':x_test, 'sentiment':y_test}\n",
    "# df = pd.DataFrame(dict)\n",
    "# df.to_csv('imdb_test.csv', header=True, index=False)\n",
    "\n",
    "# # dict = {'review':x_val, 'sentiment':y_val}\n",
    "# # df = pd.DataFrame(dict)\n",
    "# # df.to_csv('imdb_val.csv', header=True, index=False)\n",
    "\n",
    "# dict = {'review':x_train, 'sentiment':y_train}\n",
    "# df = pd.DataFrame(dict)\n",
    "# df.to_csv('imdb_train.csv', header=True, index=False)"
   ]
  },
  {
   "cell_type": "code",
   "execution_count": 6,
   "metadata": {},
   "outputs": [
    {
     "name": "stdout",
     "output_type": "stream",
     "text": [
      "(15000, 2)\n",
      "0    7508\n",
      "1    7492\n",
      "Name: sentiment, dtype: int64\n",
      "(35000, 2)\n",
      "1    17508\n",
      "0    17492\n",
      "Name: sentiment, dtype: int64\n"
     ]
    }
   ],
   "source": [
    "test = pd.read_csv('imdb_test.csv', encoding='utf-8')\n",
    "print(test.shape)\n",
    "print(test['sentiment'].value_counts())\n",
    "\n",
    "train = pd.read_csv('imdb_train.csv', encoding='utf-8')\n",
    "print(train.shape)\n",
    "print(train['sentiment'].value_counts())\n",
    "\n",
    "# val = pd.read_csv('imdb_val.csv', encoding='utf-8')\n",
    "# print(val.shape)\n",
    "# print(val['sentiment'].value_counts())"
   ]
  },
  {
   "cell_type": "markdown",
   "metadata": {},
   "source": [
    "使用tf-idf當作特徵"
   ]
  },
  {
   "cell_type": "code",
   "execution_count": 34,
   "metadata": {},
   "outputs": [],
   "source": [
    "from sklearn.feature_extraction.text import TfidfVectorizer\n",
    "\n",
    "tfidf_vec = TfidfVectorizer()\n",
    "train_review = tfidf_vec.fit_transform(train['review'])\n",
    "# val_review = tfidf_vec.fit_transform(val['review'])\n",
    "test_review = tfidf_vec.transform(test['review'])"
   ]
  },
  {
   "cell_type": "markdown",
   "metadata": {},
   "source": [
    "使用 word2vec當作評論特徵"
   ]
  },
  {
   "cell_type": "code",
   "execution_count": null,
   "metadata": {},
   "outputs": [],
   "source": []
  },
  {
   "cell_type": "markdown",
   "metadata": {},
   "source": [
    "logistic regression with keras"
   ]
  },
  {
   "cell_type": "code",
   "execution_count": 35,
   "metadata": {},
   "outputs": [
    {
     "name": "stdout",
     "output_type": "stream",
     "text": [
      "Model: \"sequential_10\"\n",
      "_________________________________________________________________\n",
      "Layer (type)                 Output Shape              Param #   \n",
      "=================================================================\n",
      "dense_10 (Dense)             (None, 1)                 171612    \n",
      "=================================================================\n",
      "Total params: 171,612\n",
      "Trainable params: 171,612\n",
      "Non-trainable params: 0\n",
      "_________________________________________________________________\n",
      "None\n",
      "Epoch 1/20\n",
      "875/875 [==============================] - 67s 77ms/step - loss: 0.6383 - accuracy: 0.8260 - val_loss: 0.5883 - val_accuracy: 0.8584\n",
      "Epoch 2/20\n",
      "875/875 [==============================] - 27s 31ms/step - loss: 0.5408 - accuracy: 0.8795 - val_loss: 0.5172 - val_accuracy: 0.8683\n",
      "Epoch 3/20\n",
      "875/875 [==============================] - 16s 18ms/step - loss: 0.4705 - accuracy: 0.8960 - val_loss: 0.4664 - val_accuracy: 0.8726\n",
      "Epoch 4/20\n",
      "875/875 [==============================] - 8s 9ms/step - loss: 0.4177 - accuracy: 0.9081 - val_loss: 0.4283 - val_accuracy: 0.8786\n",
      "Epoch 5/20\n",
      "875/875 [==============================] - 8s 9ms/step - loss: 0.3763 - accuracy: 0.9175 - val_loss: 0.3989 - val_accuracy: 0.8823\n",
      "Epoch 6/20\n",
      "875/875 [==============================] - 8s 9ms/step - loss: 0.3429 - accuracy: 0.9239 - val_loss: 0.3753 - val_accuracy: 0.8860\n",
      "Epoch 7/20\n",
      "875/875 [==============================] - 8s 9ms/step - loss: 0.3153 - accuracy: 0.9298 - val_loss: 0.3563 - val_accuracy: 0.8883\n",
      "Epoch 8/20\n",
      "875/875 [==============================] - 8s 9ms/step - loss: 0.2919 - accuracy: 0.9349 - val_loss: 0.3406 - val_accuracy: 0.8907\n",
      "Epoch 9/20\n",
      "875/875 [==============================] - 8s 9ms/step - loss: 0.2720 - accuracy: 0.9404 - val_loss: 0.3275 - val_accuracy: 0.8931\n",
      "Epoch 10/20\n",
      "875/875 [==============================] - 8s 9ms/step - loss: 0.2547 - accuracy: 0.9451 - val_loss: 0.3166 - val_accuracy: 0.8950\n",
      "Epoch 11/20\n",
      "875/875 [==============================] - 8s 9ms/step - loss: 0.2395 - accuracy: 0.9486 - val_loss: 0.3073 - val_accuracy: 0.8970\n",
      "Epoch 12/20\n",
      "875/875 [==============================] - 8s 9ms/step - loss: 0.2261 - accuracy: 0.9515 - val_loss: 0.2992 - val_accuracy: 0.8974\n",
      "Epoch 13/20\n",
      "875/875 [==============================] - 8s 9ms/step - loss: 0.2140 - accuracy: 0.9547 - val_loss: 0.2926 - val_accuracy: 0.8989\n",
      "Epoch 14/20\n",
      "875/875 [==============================] - 8s 9ms/step - loss: 0.2032 - accuracy: 0.9578 - val_loss: 0.2861 - val_accuracy: 0.9001\n",
      "Epoch 15/20\n",
      "875/875 [==============================] - 8s 10ms/step - loss: 0.1933 - accuracy: 0.9600 - val_loss: 0.2807 - val_accuracy: 0.9016\n",
      "Epoch 16/20\n",
      "875/875 [==============================] - 8s 9ms/step - loss: 0.1843 - accuracy: 0.9622 - val_loss: 0.2762 - val_accuracy: 0.9021\n",
      "Epoch 17/20\n",
      "875/875 [==============================] - 8s 9ms/step - loss: 0.1760 - accuracy: 0.9644 - val_loss: 0.2719 - val_accuracy: 0.9034\n",
      "Epoch 18/20\n",
      "875/875 [==============================] - 8s 9ms/step - loss: 0.1683 - accuracy: 0.9664 - val_loss: 0.2682 - val_accuracy: 0.9041\n",
      "Epoch 19/20\n",
      "875/875 [==============================] - 8s 9ms/step - loss: 0.1612 - accuracy: 0.9685 - val_loss: 0.2651 - val_accuracy: 0.9050\n",
      "Epoch 20/20\n",
      "875/875 [==============================] - 8s 9ms/step - loss: 0.1546 - accuracy: 0.9699 - val_loss: 0.2620 - val_accuracy: 0.9054\n"
     ]
    }
   ],
   "source": [
    "from calendar import EPOCH\n",
    "from tensorflow.keras.models import Sequential\n",
    "from tensorflow.keras.layers import Dense\n",
    "import numpy as np\n",
    "\n",
    "number_of_classes = 1\n",
    "number_of_features = train_review.shape[1]\n",
    "model = Sequential()\n",
    "model.add(Dense(number_of_classes, input_dim = number_of_features, activation = 'sigmoid'))\n",
    "model.compile(optimizer='adam', loss='binary_crossentropy', metrics=['accuracy'])\n",
    "print(model.summary())\n",
    "\n",
    "train_sentiment = np.array(train['sentiment'])\n",
    "history = model.fit(train_review.toarray(), train_sentiment, epochs= 20, batch_size=32, validation_split=0.2)"
   ]
  },
  {
   "cell_type": "code",
   "execution_count": 36,
   "metadata": {},
   "outputs": [
    {
     "data": {
      "image/png": "[encoded data removed]",
      "text/plain": [
       "<Figure size 432x288 with 1 Axes>"
      ]
     },
     "metadata": {
      "needs_background": "light"
     },
     "output_type": "display_data"
    },
    {
     "data": {
      "image/png": "[encoded data removed]",
      "text/plain": [
       "<Figure size 432x288 with 1 Axes>"
      ]
     },
     "metadata": {
      "needs_background": "light"
     },
     "output_type": "display_data"
    }
   ],
   "source": [
    "import matplotlib.pyplot as plt\n",
    "\n",
    "# Plot training and validation accuracy scores\n",
    "plt.plot(history.history['accuracy'], label='Train')\n",
    "plt.plot(history.history['val_accuracy'], label='Validation')\n",
    "plt.ylabel('Accuracy')\n",
    "plt.xlabel('Epoch')\n",
    "plt.title('Model Accuracy')\n",
    "plt.legend(loc='upper left')\n",
    "plt.show()\n",
    "\n",
    "# Plot training and validation loss scores\n",
    "plt.plot(history.history['loss'], label='Train')\n",
    "plt.plot(history.history['val_loss'], label='Validation')\n",
    "plt.ylabel('Loss')\n",
    "plt.xlabel('Epoch')\n",
    "plt.title('Model Loss')\n",
    "plt.legend(loc='upper right')\n",
    "plt.show()"
   ]
  },
  {
   "cell_type": "code",
   "execution_count": 37,
   "metadata": {},
   "outputs": [
    {
     "name": "stdout",
     "output_type": "stream",
     "text": [
      "469/469 [==============================] - 5s 11ms/step - loss: 0.2672 - accuracy: 0.8993\n",
      "test loss:  0.26717445254325867\n",
      "test acc:  0.8992666602134705\n"
     ]
    }
   ],
   "source": [
    "test_sentiment = np.array(test['sentiment'])\n",
    "test_loss, test_acc = model.evaluate(test_review.toarray(), test_sentiment)\n",
    "print(\"test loss: \", test_loss)\n",
    "print(\"test acc: \", test_acc)"
   ]
  }
 ],
 "metadata": {
  "kernelspec": {
   "display_name": "Python 3.8.5 ('base')",
   "language": "python",
   "name": "python3"
  },
  "language_info": {
   "codemirror_mode": {
    "name": "ipython",
    "version": 3
   },
   "file_extension": ".py",
   "mimetype": "text/x-python",
   "name": "python",
   "nbconvert_exporter": "python",
   "pygments_lexer": "ipython3",
   "version": "3.8.5"
  },
  "vscode": {
   "interpreter": {
    "hash": "5a9e08d3d7ccfa255d62ba1e587172a6adb964258b9aeb02178b449ad672450b"
   }
  }
 },
 "nbformat": 4,
 "nbformat_minor": 4
}
